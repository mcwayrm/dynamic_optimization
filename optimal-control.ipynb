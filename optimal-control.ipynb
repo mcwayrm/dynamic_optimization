{
  "cells": [
    {
      "cell_type": "raw",
      "metadata": {},
      "source": [
        "---\n",
        "title: \"Optimal Control\"\n",
        "format:\n",
        "  html:\n",
        "    toc: true\n",
        "    html-math-method: katex\n",
        "    css: styles.css\n",
        "---"
      ],
      "id": "f3e773c8"
    },
    {
      "cell_type": "markdown",
      "metadata": {},
      "source": [
        "# Current Value Hamiltonian\n"
      ],
      "id": "41fd4682"
    },
    {
      "cell_type": "markdown",
      "metadata": {},
      "source": [
        "# Phase Diagram\n"
      ],
      "id": "32b0ce7c"
    }
  ],
  "metadata": {
    "kernelspec": {
      "name": "python3",
      "language": "python",
      "display_name": "Python 3 (ipykernel)"
    }
  },
  "nbformat": 4,
  "nbformat_minor": 5
}